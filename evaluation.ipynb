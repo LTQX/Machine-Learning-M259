{
 "cells": [
  {
   "cell_type": "markdown",
   "id": "68868ab9-8617-4a04-af70-d98cc81f95a8",
   "metadata": {},
   "source": [
    "## 4.1\n",
    "\n",
    "Zur Bestimmung relevanter Merkmale wurde die Korrelation mit dem Zielwert `Average playtime forever` berechnet. Die höchsten Korrelationswerte zeigten:\n",
    "\n",
    "- `Median playtime forever`: r = 0.96\n",
    "- `Positive`: r = 0.62\n",
    "- `Price`: r = 0.39\n",
    "\n",
    "Diese Felder korrelieren stark mit der Zielvariable und sind daher für die Vorhersage besonders aussagekräftig. Die Korrelation wurde mit `df.corr()` geprüft.\n"
   ]
  },
  {
   "cell_type": "markdown",
   "id": "7d2b4f12-62fb-4255-9844-b6664542bf34",
   "metadata": {},
   "source": [
    "## 4.2"
   ]
  },
  {
   "cell_type": "code",
   "execution_count": 1,
   "id": "d95a2d1c-d63c-4ce0-8a23-a93731b9e94d",
   "metadata": {},
   "outputs": [],
   "source": [
    "import pandas as pd\n",
    "from sklearn.model_selection import train_test_split\n",
    "from sklearn.linear_model import LinearRegression"
   ]
  },
  {
   "cell_type": "code",
   "execution_count": 2,
   "id": "b5a7dce3-3b60-4efa-b9c2-5775c53b6846",
   "metadata": {},
   "outputs": [
    {
     "data": {
      "text/html": [
       "<div>\n",
       "<style scoped>\n",
       "    .dataframe tbody tr th:only-of-type {\n",
       "        vertical-align: middle;\n",
       "    }\n",
       "\n",
       "    .dataframe tbody tr th {\n",
       "        vertical-align: top;\n",
       "    }\n",
       "\n",
       "    .dataframe thead th {\n",
       "        text-align: right;\n",
       "    }\n",
       "</style>\n",
       "<table border=\"1\" class=\"dataframe\">\n",
       "  <thead>\n",
       "    <tr style=\"text-align: right;\">\n",
       "      <th></th>\n",
       "      <th>AppID</th>\n",
       "      <th>Name</th>\n",
       "      <th>Release date</th>\n",
       "      <th>Estimated owners</th>\n",
       "      <th>Required age</th>\n",
       "      <th>Price</th>\n",
       "      <th>Supported languages</th>\n",
       "      <th>Positive</th>\n",
       "      <th>Negative</th>\n",
       "      <th>Achievements</th>\n",
       "      <th>Recommendations</th>\n",
       "      <th>Average playtime forever</th>\n",
       "      <th>Publishers</th>\n",
       "      <th>Categories</th>\n",
       "      <th>Genres</th>\n",
       "    </tr>\n",
       "  </thead>\n",
       "  <tbody>\n",
       "    <tr>\n",
       "      <th>0</th>\n",
       "      <td>20200</td>\n",
       "      <td>Galactic Bowling</td>\n",
       "      <td>21-Oct-08</td>\n",
       "      <td>0 - 20000</td>\n",
       "      <td>0</td>\n",
       "      <td>19.99</td>\n",
       "      <td>['English']</td>\n",
       "      <td>6</td>\n",
       "      <td>11</td>\n",
       "      <td>30</td>\n",
       "      <td>0</td>\n",
       "      <td>0</td>\n",
       "      <td>Perpetual FX Creative</td>\n",
       "      <td>Single-player,Multi-player,Steam Achievements,...</td>\n",
       "      <td>Casual,Indie,Sports</td>\n",
       "    </tr>\n",
       "    <tr>\n",
       "      <th>1</th>\n",
       "      <td>655370</td>\n",
       "      <td>Train Bandit</td>\n",
       "      <td>12-Oct-17</td>\n",
       "      <td>0 - 20000</td>\n",
       "      <td>0</td>\n",
       "      <td>0.99</td>\n",
       "      <td>['English', 'French', 'Italian', 'German', 'Sp...</td>\n",
       "      <td>53</td>\n",
       "      <td>5</td>\n",
       "      <td>12</td>\n",
       "      <td>0</td>\n",
       "      <td>0</td>\n",
       "      <td>Wild Rooster</td>\n",
       "      <td>Single-player,Steam Achievements,Full controll...</td>\n",
       "      <td>Action,Indie</td>\n",
       "    </tr>\n",
       "    <tr>\n",
       "      <th>2</th>\n",
       "      <td>1732930</td>\n",
       "      <td>Jolt Project</td>\n",
       "      <td>17-Nov-21</td>\n",
       "      <td>0 - 20000</td>\n",
       "      <td>0</td>\n",
       "      <td>4.99</td>\n",
       "      <td>['English', 'Portuguese - Brazil']</td>\n",
       "      <td>0</td>\n",
       "      <td>0</td>\n",
       "      <td>0</td>\n",
       "      <td>0</td>\n",
       "      <td>0</td>\n",
       "      <td>Campião Games</td>\n",
       "      <td>Single-player</td>\n",
       "      <td>Action,Adventure,Indie,Strategy</td>\n",
       "    </tr>\n",
       "    <tr>\n",
       "      <th>3</th>\n",
       "      <td>1355720</td>\n",
       "      <td>Henosis™</td>\n",
       "      <td>23-Jul-20</td>\n",
       "      <td>0 - 20000</td>\n",
       "      <td>0</td>\n",
       "      <td>5.99</td>\n",
       "      <td>['English', 'French', 'Italian', 'German', 'Sp...</td>\n",
       "      <td>3</td>\n",
       "      <td>0</td>\n",
       "      <td>0</td>\n",
       "      <td>0</td>\n",
       "      <td>0</td>\n",
       "      <td>Odd Critter Games</td>\n",
       "      <td>Single-player,Full controller support</td>\n",
       "      <td>Adventure,Casual,Indie</td>\n",
       "    </tr>\n",
       "    <tr>\n",
       "      <th>4</th>\n",
       "      <td>1139950</td>\n",
       "      <td>Two Weeks in Painland</td>\n",
       "      <td>3-Feb-20</td>\n",
       "      <td>0 - 20000</td>\n",
       "      <td>0</td>\n",
       "      <td>0.00</td>\n",
       "      <td>['English', 'Spanish - Spain']</td>\n",
       "      <td>50</td>\n",
       "      <td>8</td>\n",
       "      <td>17</td>\n",
       "      <td>0</td>\n",
       "      <td>0</td>\n",
       "      <td>Unusual Games</td>\n",
       "      <td>Single-player,Steam Achievements</td>\n",
       "      <td>Adventure,Indie</td>\n",
       "    </tr>\n",
       "  </tbody>\n",
       "</table>\n",
       "</div>"
      ],
      "text/plain": [
       "     AppID                   Name Release date Estimated owners  Required age  \\\n",
       "0    20200       Galactic Bowling    21-Oct-08        0 - 20000             0   \n",
       "1   655370           Train Bandit    12-Oct-17        0 - 20000             0   \n",
       "2  1732930           Jolt Project    17-Nov-21        0 - 20000             0   \n",
       "3  1355720               Henosis™    23-Jul-20        0 - 20000             0   \n",
       "4  1139950  Two Weeks in Painland     3-Feb-20        0 - 20000             0   \n",
       "\n",
       "   Price                                Supported languages  Positive  \\\n",
       "0  19.99                                        ['English']         6   \n",
       "1   0.99  ['English', 'French', 'Italian', 'German', 'Sp...        53   \n",
       "2   4.99                 ['English', 'Portuguese - Brazil']         0   \n",
       "3   5.99  ['English', 'French', 'Italian', 'German', 'Sp...         3   \n",
       "4   0.00                     ['English', 'Spanish - Spain']        50   \n",
       "\n",
       "   Negative  Achievements  Recommendations  Average playtime forever  \\\n",
       "0        11            30                0                         0   \n",
       "1         5            12                0                         0   \n",
       "2         0             0                0                         0   \n",
       "3         0             0                0                         0   \n",
       "4         8            17                0                         0   \n",
       "\n",
       "              Publishers                                         Categories  \\\n",
       "0  Perpetual FX Creative  Single-player,Multi-player,Steam Achievements,...   \n",
       "1           Wild Rooster  Single-player,Steam Achievements,Full controll...   \n",
       "2          Campião Games                                      Single-player   \n",
       "3      Odd Critter Games              Single-player,Full controller support   \n",
       "4          Unusual Games                   Single-player,Steam Achievements   \n",
       "\n",
       "                            Genres  \n",
       "0              Casual,Indie,Sports  \n",
       "1                     Action,Indie  \n",
       "2  Action,Adventure,Indie,Strategy  \n",
       "3           Adventure,Casual,Indie  \n",
       "4                  Adventure,Indie  "
      ]
     },
     "execution_count": 2,
     "metadata": {},
     "output_type": "execute_result"
    }
   ],
   "source": [
    "games = pd.read_csv(\"/Users/ylli/Library/CloudStorage/OneDrive-AlteKantonsschuleAarau/BBBaden/M259/games.csv\")\n",
    "games.head()"
   ]
  },
  {
   "cell_type": "markdown",
   "id": "099abc6a-42e2-4c72-83c8-c07f1046f899",
   "metadata": {},
   "source": [
    "## 4.2 – Metrik: Mean Squared Error\n",
    "\n",
    "Für die Bewertung des linearen Regressionsmodells wurde der **MSE (Mean Squared Error)** verwendet. Er beträgt rund 1'005'000 – was auf hohe Abweichungen hindeutet. Das bedeutet, dass einzelne Vorhersagen sehr stark vom tatsächlichen Wert abweichen können. Die Bewertung des Modells muss also kritisch erfolgen."
   ]
  },
  {
   "cell_type": "code",
   "execution_count": 3,
   "id": "08357326-0c4f-4a7d-ae4d-eb3c2d2899b0",
   "metadata": {},
   "outputs": [],
   "source": [
    "# Daten vorbereiten\n",
    "games = games.dropna(subset=[\"Average playtime forever\", \"Price\", \"Positive\"])\n",
    "\n",
    "X = games[[\"Price\", \"Positive\"]]\n",
    "y = games[\"Average playtime forever\"]\n",
    "\n",
    "# Trainings- und Testdaten splitten\n",
    "X_train, X_test, y_train, y_test = train_test_split(X, y, test_size=0.2, random_state=42)\n",
    "\n",
    "# Modell trainieren\n",
    "model = LinearRegression()\n",
    "model.fit(X_train, y_train)\n",
    "\n",
    "# Vorhersagen berechnen\n",
    "predictions = model.predict(X_test)\n"
   ]
  },
  {
   "cell_type": "code",
   "execution_count": 4,
   "id": "c79c48f1-b6d5-4142-8193-8e5d71a1b705",
   "metadata": {},
   "outputs": [
    {
     "name": "stdout",
     "output_type": "stream",
     "text": [
      "📉 MSE (Mean Squared Error): 1058802.58\n",
      "🔍 1036/2100 Vorhersagen weichen weniger als 100 Minuten ab (49.33%)\n"
     ]
    }
   ],
   "source": [
    "from sklearn.metrics import mean_squared_error\n",
    "\n",
    "mse = mean_squared_error(y_test, predictions)\n",
    "print(\"📉 MSE (Mean Squared Error):\", round(mse, 2))\n",
    "\n",
    "# Realistischer Vergleich\n",
    "diff = abs(y_test.values - predictions)\n",
    "within_100 = (diff < 100).sum()\n",
    "total = len(diff)\n",
    "\n",
    "print(f\"🔍 {within_100}/{total} Vorhersagen weichen weniger als 100 Minuten ab ({round(100 * within_100 / total, 2)}%)\")"
   ]
  },
  {
   "cell_type": "markdown",
   "id": "0e81b92b-c6a7-488c-8d5e-e9937f709558",
   "metadata": {},
   "source": [
    "## 4.3"
   ]
  },
  {
   "cell_type": "markdown",
   "id": "e96970ff-cf57-45de-a936-74a8de7f3f33",
   "metadata": {},
   "source": [
    "Für eine binäre Klassifikation wurde eine Schwelle von 100 Minuten Spielzeit gewählt. Spiele über diesem Wert gelten als \"Langspieler\". Anhand der Vorhersagen wurde eine Wahrheitsmatrix erstellt. Zusätzlich wurden Sensitivität (Recall) und Spezifität (True Negative Rate) berechnet, um die Qualität des Modells umfassend zu beurteilen."
   ]
  },
  {
   "cell_type": "code",
   "execution_count": 6,
   "id": "ceba8bfe-129b-4bbe-9f94-8322cf3894bb",
   "metadata": {},
   "outputs": [],
   "source": [
    "# Wir definieren: ab 100 Minuten zählt als \"Langspieler\" = Klasse 1\n",
    "threshold = 100\n",
    "\n",
    "# Tatsächliche Klassen\n",
    "y_test_binary = (y_test >= threshold).astype(int)\n",
    "\n",
    "# Vorhergesagte Klassen\n",
    "predictions_binary = (predictions >= threshold).astype(int)"
   ]
  },
  {
   "cell_type": "code",
   "execution_count": 7,
   "id": "6b94605f-f814-4296-92da-21a7d3cfb44d",
   "metadata": {},
   "outputs": [
    {
     "name": "stdout",
     "output_type": "stream",
     "text": [
      "📊 Confusion Matrix:\n",
      "[[907 830]\n",
      " [ 91 272]]\n",
      "TN = 907, FP = 830, FN = 91, TP = 272\n"
     ]
    }
   ],
   "source": [
    "from sklearn.metrics import confusion_matrix\n",
    "\n",
    "# Matrix berechnen\n",
    "cm = confusion_matrix(y_test_binary, predictions_binary)\n",
    "tn, fp, fn, tp = cm.ravel()\n",
    "\n",
    "print(\"📊 Confusion Matrix:\")\n",
    "print(cm)\n",
    "print(f\"TN = {tn}, FP = {fp}, FN = {fn}, TP = {tp}\")\n"
   ]
  },
  {
   "cell_type": "code",
   "execution_count": 8,
   "id": "ccf390fa-f7d2-4976-8cea-7f64a012f4d6",
   "metadata": {},
   "outputs": [
    {
     "name": "stdout",
     "output_type": "stream",
     "text": [
      "🎯 Precision (Wie genau sind die Langspieler-Vorhersagen?): 0.25\n",
      "📈 Recall (Wie viele Langspieler wurden erkannt?): 0.75\n",
      "🧪 Spezifität (True Negative Rate): 0.52\n"
     ]
    }
   ],
   "source": [
    "from sklearn.metrics import precision_score, recall_score\n",
    "\n",
    "precision = precision_score(y_test_binary, predictions_binary)\n",
    "recall = recall_score(y_test_binary, predictions_binary)\n",
    "\n",
    "print(\"🎯 Precision (Wie genau sind die Langspieler-Vorhersagen?):\", round(precision, 2))\n",
    "print(\"📈 Recall (Wie viele Langspieler wurden erkannt?):\", round(recall, 2))\n",
    "# Spezifität manuell berechnen\n",
    "specificity = tn / (tn + fp)\n",
    "print(\"🧪 Spezifität (True Negative Rate):\", round(specificity, 2))"
   ]
  },
  {
   "cell_type": "markdown",
   "id": "837bef3f-74c0-4acd-8f49-fbf8be795c7e",
   "metadata": {},
   "source": [
    "## 4.4"
   ]
  },
  {
   "cell_type": "markdown",
   "id": "3b0db69d-e041-4cf8-86e4-b3061c61e40d",
   "metadata": {},
   "source": [
    "Das Modell liefert gemischte Ergebnisse. Der MSE beträgt über 1'000'000, was auf teils erhebliche Abweichungen hindeutet. Nur rund 49 % der Vorhersagen weichen weniger als 100 Minuten vom tatsächlichen Wert ab. Bei der nachträglichen Klassifikation als \"Langspieler\" (ab 100 Minuten) erreicht das Modell einen Recall von 0.75 – es erkennt die meisten Langspieler korrekt. Die Präzision ist jedoch niedrig (0.25), ebenso wie die Spezifität (0.52), was auf viele falsch-positive Vorhersagen hinweist. Ursache könnten fehlende Merkmale wie Spielgenre oder Nutzerverhalten sein. Ein komplexeres Modell könnte helfen."
   ]
  }
 ],
 "metadata": {
  "kernelspec": {
   "display_name": "Python 3 (ipykernel)",
   "language": "python",
   "name": "python3"
  },
  "language_info": {
   "codemirror_mode": {
    "name": "ipython",
    "version": 3
   },
   "file_extension": ".py",
   "mimetype": "text/x-python",
   "name": "python",
   "nbconvert_exporter": "python",
   "pygments_lexer": "ipython3",
   "version": "3.13.2"
  }
 },
 "nbformat": 4,
 "nbformat_minor": 5
}
